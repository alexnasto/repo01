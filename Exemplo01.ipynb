{
  "nbformat": 4,
  "nbformat_minor": 0,
  "metadata": {
    "colab": {
      "name": "Exemplo01.ipynb",
      "provenance": [],
      "authorship_tag": "ABX9TyOguRbyDbkN34VF/s4y9CVu",
      "include_colab_link": true
    },
    "kernelspec": {
      "name": "python3",
      "display_name": "Python 3"
    }
  },
  "cells": [
    {
      "cell_type": "markdown",
      "metadata": {
        "id": "view-in-github",
        "colab_type": "text"
      },
      "source": [
        "<a href=\"https://colab.research.google.com/github/alexnasto/repo01/blob/master/Exemplo01.ipynb\" target=\"_parent\"><img src=\"https://colab.research.google.com/assets/colab-badge.svg\" alt=\"Open In Colab\"/></a>"
      ]
    },
    {
      "cell_type": "code",
      "metadata": {
        "id": "vmY0rXZ0zJa5",
        "colab_type": "code",
        "colab": {
          "base_uri": "https://localhost:8080/",
          "height": 51
        },
        "outputId": "ba4f7198-b2a5-4626-e6f4-473e28822463"
      },
      "source": [
        "# isto é um comando de saaída\n",
        "print(\"Olá mundo cruel!!!\");\n",
        "print(\"crel world!!!\");"
      ],
      "execution_count": 4,
      "outputs": [
        {
          "output_type": "stream",
          "text": [
            "Olá mundo cruel!!!\n",
            "crel world!!!\n"
          ],
          "name": "stdout"
        }
      ]
    },
    {
      "cell_type": "markdown",
      "metadata": {
        "id": "bN7A9KzR7g92",
        "colab_type": "text"
      },
      "source": [
        ""
      ]
    },
    {
      "cell_type": "markdown",
      "metadata": {
        "id": "zdRfvOJr5YLl",
        "colab_type": "text"
      },
      "source": [
        "Esta é uma celula somente de texto.Aqui posso fazer formatações usando as ferramentas que estão na barra.\n",
        "\n",
        "Abaixo, vamos mesclar uma saida de tela\n",
        "\n"
      ]
    },
    {
      "cell_type": "code",
      "metadata": {
        "id": "NyOAGA3z70mq",
        "colab_type": "code",
        "colab": {}
      },
      "source": [
        ""
      ],
      "execution_count": null,
      "outputs": []
    }
  ]
}